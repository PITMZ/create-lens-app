{
 "cells": [
  {
   "cell_type": "code",
   "execution_count": 1,
   "id": "d94e50b2",
   "metadata": {
    "_cell_guid": "b1076dfc-b9ad-4769-8c92-a6c4dae69d19",
    "_uuid": "8f2839f25d086af736a60e9eeb907d3b93b6e0e5",
    "execution": {
     "iopub.execute_input": "2024-12-02T22:36:33.930493Z",
     "iopub.status.busy": "2024-12-02T22:36:33.930036Z",
     "iopub.status.idle": "2024-12-02T22:36:34.487434Z",
     "shell.execute_reply": "2024-12-02T22:36:34.486375Z"
    },
    "papermill": {
     "duration": 0.563505,
     "end_time": "2024-12-02T22:36:34.489616",
     "exception": false,
     "start_time": "2024-12-02T22:36:33.926111",
     "status": "completed"
    },
    "tags": []
   },
   "outputs": [
    {
     "name": "stdout",
     "output_type": "stream",
     "text": [
      "Path to model files: /kaggle/input/avosg/tensorrtllm/default/7\n"
     ]
    }
   ],
   "source": [
    "import kagglehub\n",
    "\n",
    "# Download latest version\n",
    "path = kagglehub.model_download(\"zeroeva/avosg/tensorRtLlm/default\")\n",
    "\n",
    "print(\"Path to model files:\", path)"
   ]
  }
 ],
 "metadata": {
  "kaggle": {
   "accelerator": "none",
   "dataSources": [
    {
     "datasetId": 6215628,
     "sourceId": 10081993,
     "sourceType": "datasetVersion"
    },
    {
     "modelId": 172587,
     "modelInstanceId": 150096,
     "sourceId": 186222,
     "sourceType": "modelInstanceVersion"
    }
   ],
   "dockerImageVersionId": 30804,
   "isGpuEnabled": false,
   "isInternetEnabled": true,
   "language": "python",
   "sourceType": "notebook"
  },
  "kernelspec": {
   "display_name": "Python 3",
   "language": "python",
   "name": "python3"
  },
  "language_info": {
   "codemirror_mode": {
    "name": "ipython",
    "version": 3
   },
   "file_extension": ".py",
   "mimetype": "text/x-python",
   "name": "python",
   "nbconvert_exporter": "python",
   "pygments_lexer": "ipython3",
   "version": "3.10.14"
  },
  "papermill": {
   "default_parameters": {},
   "duration": 3.777296,
   "end_time": "2024-12-02T22:36:34.911179",
   "environment_variables": {},
   "exception": null,
   "input_path": "__notebook__.ipynb",
   "output_path": "__notebook__.ipynb",
   "parameters": {},
   "start_time": "2024-12-02T22:36:31.133883",
   "version": "2.6.0"
  }
 },
 "nbformat": 4,
 "nbformat_minor": 5
}
